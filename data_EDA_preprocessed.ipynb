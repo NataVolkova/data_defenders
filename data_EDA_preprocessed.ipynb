{
 "cells": [
  {
   "cell_type": "markdown",
   "source": [
    "# Data EDA and preprocessed\n",
    "Source - https://www.kaggle.com/competitions/ai-defence-summer-school-2024/data"
   ],
   "metadata": {
    "collapsed": false
   },
   "id": "75de0f91325f6d8f"
  },
  {
   "cell_type": "markdown",
   "source": [
    "#### Libraries"
   ],
   "metadata": {
    "collapsed": false
   },
   "id": "54ee609d737ac877"
  },
  {
   "cell_type": "code",
   "execution_count": 1,
   "id": "initial_id",
   "metadata": {
    "collapsed": true,
    "ExecuteTime": {
     "end_time": "2024-06-29T08:05:41.356562200Z",
     "start_time": "2024-06-29T08:05:40.563556800Z"
    }
   },
   "outputs": [],
   "source": [
    "import pandas as pd\n",
    "import os\n",
    "import matplotlib.pyplot as plt\n",
    "import seaborn as sns\n",
    "from tqdm import tqdm\n",
    "import re\n",
    "from nltk.tokenize import sent_tokenize\n",
    "! pip install langdetect\n",
    "from langdetect import detect"
   ]
  },
  {
   "cell_type": "code",
   "outputs": [],
   "source": [
    "import spacy\n",
    "!python -m spacy download ru_core_news_md\n",
    "import ru_core_news_md\n",
    "!python -m spacy download uk_core_news_md\n",
    "import uk_core_news_md\n",
    "from collections import Counter\n",
    "from spacy.lang.ru.stop_words import STOP_WORDS"
   ],
   "metadata": {
    "collapsed": false,
    "ExecuteTime": {
     "end_time": "2024-06-29T08:05:45.395777800Z",
     "start_time": "2024-06-29T08:05:41.359559900Z"
    }
   },
   "id": "7cce014b3a234934",
   "execution_count": 2
  },
  {
   "cell_type": "code",
   "outputs": [
    {
     "name": "stderr",
     "output_type": "stream",
     "text": [
      "[nltk_data] Downloading package punkt to\n",
      "[nltk_data]     C:\\Users\\Ната\\AppData\\Roaming\\nltk_data...\n",
      "[nltk_data]   Package punkt is already up-to-date!\n",
      "[nltk_data] Downloading package stopwords to\n",
      "[nltk_data]     C:\\Users\\Ната\\AppData\\Roaming\\nltk_data...\n",
      "[nltk_data]   Package stopwords is already up-to-date!\n"
     ]
    },
    {
     "data": {
      "text/plain": "True"
     },
     "execution_count": 18,
     "metadata": {},
     "output_type": "execute_result"
    }
   ],
   "source": [
    "from nltk.corpus import stopwords\n",
    "import nltk\n",
    "import re\n",
    "nltk.download('punkt')\n",
    "nltk.download('stopwords')"
   ],
   "metadata": {
    "collapsed": false,
    "ExecuteTime": {
     "end_time": "2024-06-29T08:35:23.697578Z",
     "start_time": "2024-06-29T08:35:23.479582500Z"
    }
   },
   "id": "7cd9e2854c4f39ff",
   "execution_count": 18
  },
  {
   "cell_type": "code",
   "outputs": [
    {
     "name": "stdout",
     "output_type": "stream",
     "text": [
      "Requirement already satisfied: gensim in c:\\users\\ната\\appdata\\local\\programs\\python\\python310\\lib\\site-packages (4.3.2)\n",
      "Requirement already satisfied: numpy>=1.18.5 in c:\\users\\ната\\appdata\\local\\programs\\python\\python310\\lib\\site-packages (from gensim) (1.24.3)\n",
      "Requirement already satisfied: scipy>=1.7.0 in c:\\users\\ната\\appdata\\local\\programs\\python\\python310\\lib\\site-packages (from gensim) (1.10.1)\n",
      "Requirement already satisfied: smart-open>=1.8.1 in c:\\users\\ната\\appdata\\local\\programs\\python\\python310\\lib\\site-packages (from gensim) (6.4.0)\n"
     ]
    },
    {
     "name": "stderr",
     "output_type": "stream",
     "text": [
      "\n",
      "[notice] A new release of pip is available: 24.0 -> 24.1.1\n",
      "[notice] To update, run: python.exe -m pip install --upgrade pip\n"
     ]
    }
   ],
   "source": [
    "! pip install gensim\n",
    "import gensim"
   ],
   "metadata": {
    "collapsed": false,
    "ExecuteTime": {
     "end_time": "2024-06-29T08:35:56.985165500Z",
     "start_time": "2024-06-29T08:35:49.717431600Z"
    }
   },
   "id": "85ab71de2a0e0ce4",
   "execution_count": 19
  },
  {
   "cell_type": "markdown",
   "source": [
    "### Data Loading"
   ],
   "metadata": {
    "collapsed": false
   },
   "id": "1d9625525401575a"
  },
  {
   "cell_type": "code",
   "outputs": [
    {
     "data": {
      "text/plain": "   source_id                    source_url         source_category\n0     133653   https://twitter.com/IFR2022  AGGRESSIVE_INFORMATION\n1      39644      https://t.me/warfakeskrm  RESTRAINED_INFORMATION\n2     245395  https://t.me/od_patrolpolice            SAFE_CONTENT\n3     252210       https://t.me/trech_kich                    SPAM\n4     226108       https://t.me/sitreports  RESTRAINED_INFORMATION",
      "text/html": "<div>\n<style scoped>\n    .dataframe tbody tr th:only-of-type {\n        vertical-align: middle;\n    }\n\n    .dataframe tbody tr th {\n        vertical-align: top;\n    }\n\n    .dataframe thead th {\n        text-align: right;\n    }\n</style>\n<table border=\"1\" class=\"dataframe\">\n  <thead>\n    <tr style=\"text-align: right;\">\n      <th></th>\n      <th>source_id</th>\n      <th>source_url</th>\n      <th>source_category</th>\n    </tr>\n  </thead>\n  <tbody>\n    <tr>\n      <th>0</th>\n      <td>133653</td>\n      <td>https://twitter.com/IFR2022</td>\n      <td>AGGRESSIVE_INFORMATION</td>\n    </tr>\n    <tr>\n      <th>1</th>\n      <td>39644</td>\n      <td>https://t.me/warfakeskrm</td>\n      <td>RESTRAINED_INFORMATION</td>\n    </tr>\n    <tr>\n      <th>2</th>\n      <td>245395</td>\n      <td>https://t.me/od_patrolpolice</td>\n      <td>SAFE_CONTENT</td>\n    </tr>\n    <tr>\n      <th>3</th>\n      <td>252210</td>\n      <td>https://t.me/trech_kich</td>\n      <td>SPAM</td>\n    </tr>\n    <tr>\n      <th>4</th>\n      <td>226108</td>\n      <td>https://t.me/sitreports</td>\n      <td>RESTRAINED_INFORMATION</td>\n    </tr>\n  </tbody>\n</table>\n</div>"
     },
     "execution_count": 4,
     "metadata": {},
     "output_type": "execute_result"
    }
   ],
   "source": [
    "# Data with classes and ids\n",
    "file_path = 'C:/N/st/UCU/5sem2024_DIPLOMA/Manipulation/code/data_defenders/data'\n",
    "df_train = pd.read_csv(os.path.join(file_path, \"train.csv\"))\n",
    "df_train.head()"
   ],
   "metadata": {
    "collapsed": false,
    "ExecuteTime": {
     "end_time": "2024-06-29T08:06:13.612658600Z",
     "start_time": "2024-06-29T08:06:13.497253700Z"
    }
   },
   "id": "1b94b1680dffab8b",
   "execution_count": 4
  },
  {
   "cell_type": "code",
   "outputs": [
    {
     "name": "stdout",
     "output_type": "stream",
     "text": [
      "Unique channels ids: 3260\n"
     ]
    }
   ],
   "source": [
    "print(\"Unique channels ids:\", df_train[\"source_id\"].nunique())"
   ],
   "metadata": {
    "collapsed": false,
    "ExecuteTime": {
     "end_time": "2024-06-29T08:07:56.096479300Z",
     "start_time": "2024-06-29T08:07:56.019461100Z"
    }
   },
   "id": "9006a775d964780b",
   "execution_count": 6
  },
  {
   "cell_type": "code",
   "outputs": [
    {
     "name": "stdout",
     "output_type": "stream",
     "text": [
      "Categories:\n",
      "AGGRESSIVE_INFORMATION                  1499\n",
      "RESTRAINED_INFORMATION                  1174\n",
      "AGGRESSIVE_MILITARY                      108\n",
      "RESTRAINED_MILITARY                      107\n",
      "SAFE_CONTENT                              91\n",
      "ENTITIES_PROMOTING_VIOLENCE_AND_HATE      83\n",
      "UNRECOGNIZED_REPUBLICS                    66\n",
      "SPAM                                      54\n",
      "VIOLENCE                                  31\n",
      "COORDINATION_OF_ATTACKS                   23\n",
      "PERSONAL_INFORMATION                      17\n",
      "CYBER_ATTACK_COORDINATION                  7\n",
      "Name: source_category, dtype: int64\n"
     ]
    }
   ],
   "source": [
    "print(\"Categories:\")\n",
    "print(df_train[\"source_category\"].value_counts())"
   ],
   "metadata": {
    "collapsed": false,
    "ExecuteTime": {
     "end_time": "2024-06-29T08:10:41.529615100Z",
     "start_time": "2024-06-29T08:10:41.465616200Z"
    }
   },
   "id": "89175bbe65c74c93",
   "execution_count": 8
  },
  {
   "cell_type": "code",
   "outputs": [
    {
     "data": {
      "text/plain": "   source_id  message_id                                               text  \\\n0     253122  1415474509  https://www.youtube.com/watch?v=eR9FIPXffUw&li...   \n1     253122  1408345528  Плохо спится в белую петербургскую ночь. Котор...   \n2     253122  1394795522  «Давайте посмотрим внимательно, какую свободу ...   \n3     253122  1364623985  К добрым словам Владимира Гельмана в мой адрес...   \n4     253122  1364694325  Известный политолог, профессор университета Хе...   \n\n   impressions  reactions  shares  comments        published_at content_type  \n0        945.0         21     3.0         0 2024-06-25 11:50:25         POST  \n1       1429.0        164     3.0         1 2024-06-24 21:32:54         POST  \n2       1158.0         84     9.0         1 2024-06-23 11:33:04         POST  \n3       1071.0         86     2.0         0 2024-06-20 15:19:26         POST  \n4       1087.0        118     4.0         2 2024-06-20 15:14:28         POST  ",
      "text/html": "<div>\n<style scoped>\n    .dataframe tbody tr th:only-of-type {\n        vertical-align: middle;\n    }\n\n    .dataframe tbody tr th {\n        vertical-align: top;\n    }\n\n    .dataframe thead th {\n        text-align: right;\n    }\n</style>\n<table border=\"1\" class=\"dataframe\">\n  <thead>\n    <tr style=\"text-align: right;\">\n      <th></th>\n      <th>source_id</th>\n      <th>message_id</th>\n      <th>text</th>\n      <th>impressions</th>\n      <th>reactions</th>\n      <th>shares</th>\n      <th>comments</th>\n      <th>published_at</th>\n      <th>content_type</th>\n    </tr>\n  </thead>\n  <tbody>\n    <tr>\n      <th>0</th>\n      <td>253122</td>\n      <td>1415474509</td>\n      <td>https://www.youtube.com/watch?v=eR9FIPXffUw&amp;li...</td>\n      <td>945.0</td>\n      <td>21</td>\n      <td>3.0</td>\n      <td>0</td>\n      <td>2024-06-25 11:50:25</td>\n      <td>POST</td>\n    </tr>\n    <tr>\n      <th>1</th>\n      <td>253122</td>\n      <td>1408345528</td>\n      <td>Плохо спится в белую петербургскую ночь. Котор...</td>\n      <td>1429.0</td>\n      <td>164</td>\n      <td>3.0</td>\n      <td>1</td>\n      <td>2024-06-24 21:32:54</td>\n      <td>POST</td>\n    </tr>\n    <tr>\n      <th>2</th>\n      <td>253122</td>\n      <td>1394795522</td>\n      <td>«Давайте посмотрим внимательно, какую свободу ...</td>\n      <td>1158.0</td>\n      <td>84</td>\n      <td>9.0</td>\n      <td>1</td>\n      <td>2024-06-23 11:33:04</td>\n      <td>POST</td>\n    </tr>\n    <tr>\n      <th>3</th>\n      <td>253122</td>\n      <td>1364623985</td>\n      <td>К добрым словам Владимира Гельмана в мой адрес...</td>\n      <td>1071.0</td>\n      <td>86</td>\n      <td>2.0</td>\n      <td>0</td>\n      <td>2024-06-20 15:19:26</td>\n      <td>POST</td>\n    </tr>\n    <tr>\n      <th>4</th>\n      <td>253122</td>\n      <td>1364694325</td>\n      <td>Известный политолог, профессор университета Хе...</td>\n      <td>1087.0</td>\n      <td>118</td>\n      <td>4.0</td>\n      <td>2</td>\n      <td>2024-06-20 15:14:28</td>\n      <td>POST</td>\n    </tr>\n  </tbody>\n</table>\n</div>"
     },
     "execution_count": 9,
     "metadata": {},
     "output_type": "execute_result"
    }
   ],
   "source": [
    "# Data with messages\n",
    "file = 'C:/N/st/UCU/5sem2024_DIPLOMA/Manipulation/code/data_defenders/data/messages.jsonl'\n",
    "df_messages = pd.read_json(file, lines=True)\n",
    "df_messages.head()"
   ],
   "metadata": {
    "collapsed": false,
    "ExecuteTime": {
     "end_time": "2024-06-29T08:17:13.162986900Z",
     "start_time": "2024-06-29T08:17:04.395685800Z"
    }
   },
   "id": "b713c108788e57eb",
   "execution_count": 9
  },
  {
   "cell_type": "code",
   "outputs": [
    {
     "name": "stdout",
     "output_type": "stream",
     "text": [
      "Unique channels ids: 4660\n"
     ]
    }
   ],
   "source": [
    "print(\"Unique channels ids:\", df_messages[\"source_id\"].nunique())"
   ],
   "metadata": {
    "collapsed": false,
    "ExecuteTime": {
     "end_time": "2024-06-29T08:17:26.666899900Z",
     "start_time": "2024-06-29T08:17:26.618868800Z"
    }
   },
   "id": "667334c6a02e8cd",
   "execution_count": 10
  },
  {
   "cell_type": "code",
   "outputs": [
    {
     "name": "stdout",
     "output_type": "stream",
     "text": [
      "Numbers of messages per id: 140396450    100\n",
      "253435       100\n",
      "253399       100\n",
      "253405       100\n",
      "253409       100\n",
      "            ... \n",
      "121328196      1\n",
      "120227848      1\n",
      "70180807       1\n",
      "39615          1\n",
      "145007818      1\n",
      "Name: source_id, Length: 4660, dtype: int64\n"
     ]
    }
   ],
   "source": [
    "frequency = df_messages.groupby(['source_id', 'text']).size().reset_index(name='count')\n",
    "print(\"Numbers of messages per id:\", frequency[\"source_id\"].value_counts())"
   ],
   "metadata": {
    "collapsed": false,
    "ExecuteTime": {
     "end_time": "2024-06-29T08:18:42.168177700Z",
     "start_time": "2024-06-29T08:18:40.202146300Z"
    }
   },
   "id": "318c073f9ea02c04",
   "execution_count": 11
  },
  {
   "cell_type": "code",
   "outputs": [
    {
     "data": {
      "text/plain": "2024-06-25    36615\n2024-06-26    35199\n2024-06-24    26355\n2024-06-23    20097\n2024-06-21    13401\n              ...  \n2015-01-08        1\n2014-12-31        1\n2014-12-26        1\n2014-12-24        1\n2020-01-20        1\nName: published_at, Length: 2234, dtype: int64"
     },
     "execution_count": 12,
     "metadata": {},
     "output_type": "execute_result"
    }
   ],
   "source": [
    "# Data publication analises\n",
    "df_messages[\"published_at\"].dt.floor('d').value_counts()"
   ],
   "metadata": {
    "collapsed": false,
    "ExecuteTime": {
     "end_time": "2024-06-29T08:20:08.437824Z",
     "start_time": "2024-06-29T08:20:08.390828200Z"
    }
   },
   "id": "52610d3340535675",
   "execution_count": 12
  },
  {
   "cell_type": "code",
   "outputs": [
    {
     "data": {
      "text/plain": "<Figure size 720x432 with 1 Axes>",
      "image/png": "[encoded data removed]"
     },
     "metadata": {},
     "output_type": "display_data"
    }
   ],
   "source": [
    "# The number of the messages per months\n",
    "df_messages['year_month'] = df_messages['published_at'].dt.to_period('M')\n",
    "messages_by_month = df_messages['year_month'].value_counts().sort_index()\n",
    "\n",
    "# Filter out months with zero messages (if any)\n",
    "messages_by_month = messages_by_month[messages_by_month > 100]\n",
    "plt.figure(figsize=(10, 6))\n",
    "messages_by_month.plot(kind=\"bar\")\n",
    "plt.title(\"Messages Count by Month (more than 100 messages)\")\n",
    "plt.xlabel(\"Year-Month\")\n",
    "plt.ylabel(\"Message Count\")\n",
    "plt.xticks(rotation=45)\n",
    "plt.show()"
   ],
   "metadata": {
    "collapsed": false,
    "ExecuteTime": {
     "end_time": "2024-06-29T08:20:31.548407400Z",
     "start_time": "2024-06-29T08:20:31.090388100Z"
    }
   },
   "id": "297eec1fdd4f9e99",
   "execution_count": 13
  },
  {
   "cell_type": "markdown",
   "source": [
    "### Lang detection"
   ],
   "metadata": {
    "collapsed": false
   },
   "id": "9f66b83349a3389f"
  },
  {
   "cell_type": "code",
   "outputs": [],
   "source": [
    "# Remove everything except for text, numbers and punctuation\n",
    "punctuation = \"!*(),-.:;?%\\'\\\"\\/\"\n",
    "russian_letters = u\"абвгдеёжзийклмнопрстуфхцчшщъыьэюяАБВГДЕЁЖЗИЙКЛМНОПРСТУФХЦЧШЩЪЫЬЭЮЯ\"\n",
    "ukrainian_alphabet = u\"АБВГҐДЕЄЖЗИІЇЙКЛМНОПРСТУФХЦЧШЩЬЮЯабвгґдеєжзиіїйклмнопрстуфхцчшщьюя\"\n",
    "latin_letters_numbers = \"1234567890abcdefghijklmnopqrstuvwxyzABCDEFGHIJKLMNOPQRSTUVWXYZ \"\n",
    "allowed_symbols = ukrainian_alphabet+russian_letters+latin_letters_numbers+punctuation\n",
    "\n",
    "def clean_text(text, allowed_symbols=allowed_symbols):\n",
    "    # Remove newline characters, carriage returns, and repr symbols\n",
    "    cleaned_text = re.sub(r'[\\n\\r\\t\\\\]+', ' ', text)\n",
    "    # Remove multiple spaces \n",
    "    cleaned_text = re.sub(r'\\s+', ' ', cleaned_text)\n",
    "    # Clean the messages from all emojis\n",
    "    pattern = r'[\\U0001F300-\\U0001F5FF\\U0001F600-\\U0001F64F\\U0001F680-\\U0001F6FF\\U0001F700-\\U0001F77F\\U0001F780-\\U0001F7FF\\U0001F800-\\U0001F8FF\\U0001F900-\\U0001F9FF\\U0001FA00-\\U0001FA6F\\U0001FA70-\\U0001FAFF\\U00002702-\\U000027B0\\U000024C2-\\U0001F251&&[^\\uFF01-\\uFF5E]]+'\n",
    "    cleaned_text = re.sub(pattern, '', cleaned_text)\n",
    "    # Remove URLs\n",
    "    cleaned_text = re.sub(r'http[s]?://\\S+', '', cleaned_text)\n",
    "    getVals = list(filter(lambda x: x in allowed_symbols, cleaned_text))\n",
    "    cleaned_text = \"\".join(getVals)\n",
    "    cleaned_text = re.sub(' +', ' ', cleaned_text)\n",
    "    return cleaned_text"
   ],
   "metadata": {
    "collapsed": false,
    "ExecuteTime": {
     "end_time": "2024-06-29T08:25:50.336131200Z",
     "start_time": "2024-06-29T08:25:50.295137300Z"
    }
   },
   "id": "bb4878af8a0ab90d",
   "execution_count": 14
  },
  {
   "cell_type": "code",
   "outputs": [
    {
     "name": "stderr",
     "output_type": "stream",
     "text": [
      "C:\\Windows\\Temp\\ipykernel_4408\\1253194150.py:15: FutureWarning: Possible set intersection at position 232\n",
      "  cleaned_text = re.sub(pattern, '', cleaned_text)\n"
     ]
    }
   ],
   "source": [
    "# Clean messages text\n",
    "df_messages[\"text_clean\"] = df_messages[\"text\"].apply(lambda x: clean_text(x))"
   ],
   "metadata": {
    "collapsed": false,
    "ExecuteTime": {
     "end_time": "2024-06-29T08:26:43.866879100Z",
     "start_time": "2024-06-29T08:26:01.267878100Z"
    }
   },
   "id": "7c86cbda1ead954d",
   "execution_count": 15
  },
  {
   "cell_type": "code",
   "outputs": [
    {
     "data": {
      "text/plain": "   source_id  message_id                                               text  \\\n0     253122  1415474509  https://www.youtube.com/watch?v=eR9FIPXffUw&li...   \n1     253122  1408345528  Плохо спится в белую петербургскую ночь. Котор...   \n2     253122  1394795522  «Давайте посмотрим внимательно, какую свободу ...   \n3     253122  1364623985  К добрым словам Владимира Гельмана в мой адрес...   \n4     253122  1364694325  Известный политолог, профессор университета Хе...   \n\n   impressions  reactions  shares  comments        published_at content_type  \\\n0        945.0         21     3.0         0 2024-06-25 11:50:25         POST   \n1       1429.0        164     3.0         1 2024-06-24 21:32:54         POST   \n2       1158.0         84     9.0         1 2024-06-23 11:33:04         POST   \n3       1071.0         86     2.0         0 2024-06-20 15:19:26         POST   \n4       1087.0        118     4.0         2 2024-06-20 15:14:28         POST   \n\n  year_month                                         text_clean  \n0    2024-06                                                     \n1    2024-06  Плохо спится в белую петербургскую ночь. Котор...  \n2    2024-06  Давайте посмотрим внимательно, какую свободу п...  \n3    2024-06  К добрым словам Владимира Гельмана в мой адрес...  \n4    2024-06  Известный политолог, профессор университета Хе...  ",
      "text/html": "<div>\n<style scoped>\n    .dataframe tbody tr th:only-of-type {\n        vertical-align: middle;\n    }\n\n    .dataframe tbody tr th {\n        vertical-align: top;\n    }\n\n    .dataframe thead th {\n        text-align: right;\n    }\n</style>\n<table border=\"1\" class=\"dataframe\">\n  <thead>\n    <tr style=\"text-align: right;\">\n      <th></th>\n      <th>source_id</th>\n      <th>message_id</th>\n      <th>text</th>\n      <th>impressions</th>\n      <th>reactions</th>\n      <th>shares</th>\n      <th>comments</th>\n      <th>published_at</th>\n      <th>content_type</th>\n      <th>year_month</th>\n      <th>text_clean</th>\n    </tr>\n  </thead>\n  <tbody>\n    <tr>\n      <th>0</th>\n      <td>253122</td>\n      <td>1415474509</td>\n      <td>https://www.youtube.com/watch?v=eR9FIPXffUw&amp;li...</td>\n      <td>945.0</td>\n      <td>21</td>\n      <td>3.0</td>\n      <td>0</td>\n      <td>2024-06-25 11:50:25</td>\n      <td>POST</td>\n      <td>2024-06</td>\n      <td></td>\n    </tr>\n    <tr>\n      <th>1</th>\n      <td>253122</td>\n      <td>1408345528</td>\n      <td>Плохо спится в белую петербургскую ночь. Котор...</td>\n      <td>1429.0</td>\n      <td>164</td>\n      <td>3.0</td>\n      <td>1</td>\n      <td>2024-06-24 21:32:54</td>\n      <td>POST</td>\n      <td>2024-06</td>\n      <td>Плохо спится в белую петербургскую ночь. Котор...</td>\n    </tr>\n    <tr>\n      <th>2</th>\n      <td>253122</td>\n      <td>1394795522</td>\n      <td>«Давайте посмотрим внимательно, какую свободу ...</td>\n      <td>1158.0</td>\n      <td>84</td>\n      <td>9.0</td>\n      <td>1</td>\n      <td>2024-06-23 11:33:04</td>\n      <td>POST</td>\n      <td>2024-06</td>\n      <td>Давайте посмотрим внимательно, какую свободу п...</td>\n    </tr>\n    <tr>\n      <th>3</th>\n      <td>253122</td>\n      <td>1364623985</td>\n      <td>К добрым словам Владимира Гельмана в мой адрес...</td>\n      <td>1071.0</td>\n      <td>86</td>\n      <td>2.0</td>\n      <td>0</td>\n      <td>2024-06-20 15:19:26</td>\n      <td>POST</td>\n      <td>2024-06</td>\n      <td>К добрым словам Владимира Гельмана в мой адрес...</td>\n    </tr>\n    <tr>\n      <th>4</th>\n      <td>253122</td>\n      <td>1364694325</td>\n      <td>Известный политолог, профессор университета Хе...</td>\n      <td>1087.0</td>\n      <td>118</td>\n      <td>4.0</td>\n      <td>2</td>\n      <td>2024-06-20 15:14:28</td>\n      <td>POST</td>\n      <td>2024-06</td>\n      <td>Известный политолог, профессор университета Хе...</td>\n    </tr>\n  </tbody>\n</table>\n</div>"
     },
     "execution_count": 16,
     "metadata": {},
     "output_type": "execute_result"
    }
   ],
   "source": [
    "df_messages.head()"
   ],
   "metadata": {
    "collapsed": false,
    "ExecuteTime": {
     "end_time": "2024-06-29T08:26:52.346152400Z",
     "start_time": "2024-06-29T08:26:52.287122Z"
    }
   },
   "id": "ce465a50dc8d997e",
   "execution_count": 16
  },
  {
   "cell_type": "code",
   "outputs": [],
   "source": [
    "# Remove the messages that have less than 4 words\n",
    "df_messages['length'] = df_messages['text_clean'].str.split().apply(len)\n",
    "df_messages_length_5 = df_messages[df_messages['length'] > 4]"
   ],
   "metadata": {
    "collapsed": false,
    "ExecuteTime": {
     "end_time": "2024-06-28T10:30:29.672557300Z",
     "start_time": "2024-06-28T10:30:24.670556700Z"
    }
   },
   "id": "a6ba7c6252b90723",
   "execution_count": 31
  },
  {
   "cell_type": "code",
   "outputs": [],
   "source": [
    "# Remove post earlier than 2022 year\n",
    "df_messages_length_5 = df_messages_length_5[df_messages_length_5['published_at'] >= '2022-01-01']"
   ],
   "metadata": {
    "collapsed": false,
    "ExecuteTime": {
     "end_time": "2024-06-28T10:30:55.657572600Z",
     "start_time": "2024-06-28T10:30:55.592539100Z"
    }
   },
   "id": "e7e2942e1b6d6a7",
   "execution_count": 33
  },
  {
   "cell_type": "code",
   "outputs": [],
   "source": [
    "def langdetect(text):\n",
    "    try:\n",
    "        language = detect(text)\n",
    "    except:\n",
    "        language = \"none\"\n",
    "    return language"
   ],
   "metadata": {
    "collapsed": false,
    "ExecuteTime": {
     "end_time": "2024-06-28T09:36:14.710367900Z",
     "start_time": "2024-06-28T09:36:14.697378300Z"
    }
   },
   "id": "7d8ed00b7f363d7b",
   "execution_count": 4
  },
  {
   "cell_type": "code",
   "outputs": [
    {
     "name": "stderr",
     "output_type": "stream",
     "text": [
      "100%|██████████| 338442/338442 [24:37<00:00, 229.03it/s]\n",
      "C:\\Windows\\Temp\\ipykernel_6712\\1012886806.py:4: SettingWithCopyWarning: \n",
      "A value is trying to be set on a copy of a slice from a DataFrame.\n",
      "Try using .loc[row_indexer,col_indexer] = value instead\n",
      "\n",
      "See the caveats in the documentation: https://pandas.pydata.org/pandas-docs/stable/user_guide/indexing.html#returning-a-view-versus-a-copy\n",
      "  df_messages_length_5[\"lang\"] = df_messages_length_5[\"text_clean\"].progress_apply(lambda x: langdetect(x))\n"
     ]
    }
   ],
   "source": [
    "tqdm.pandas()\n",
    "# Set up tqdm for pandas\n",
    "\n",
    "df_messages_length_5[\"lang\"] = df_messages_length_5[\"text_clean\"].progress_apply(lambda x: langdetect(x))"
   ],
   "metadata": {
    "collapsed": false,
    "ExecuteTime": {
     "end_time": "2024-06-28T10:56:50.002923700Z",
     "start_time": "2024-06-28T10:32:11.474538200Z"
    }
   },
   "id": "3ac6e342d696368c",
   "execution_count": 35
  },
  {
   "cell_type": "code",
   "outputs": [
    {
     "data": {
      "text/plain": "lang\naf          55\nbg        2095\nca         101\ncs          14\ncy          15\nda          26\nde        2231\nen       35279\nes        3525\net         269\nfi         109\nfr        1938\nhr         625\nhu         239\nid         171\nit        1295\nlt          12\nlv           6\nmk        1307\nnl         194\nno          52\nnone       182\npl        2223\npt        1091\nro         186\nru      258873\nsk         322\nsl         137\nso          47\nsq           4\nsv          35\nsw          89\ntl          37\ntr         555\nuk       25086\nvi          17\ndtype: int64"
     },
     "execution_count": 40,
     "metadata": {},
     "output_type": "execute_result"
    }
   ],
   "source": [
    "df_messages_length_5.groupby(\"lang\").size()"
   ],
   "metadata": {
    "collapsed": false,
    "ExecuteTime": {
     "end_time": "2024-06-28T11:03:34.608181700Z",
     "start_time": "2024-06-28T11:03:34.579184700Z"
    }
   },
   "id": "a7d7da8073f4aa64",
   "execution_count": 40
  },
  {
   "cell_type": "code",
   "outputs": [
    {
     "data": {
      "text/plain": "Text(0.5, 0, 'Language')"
     },
     "execution_count": 41,
     "metadata": {},
     "output_type": "execute_result"
    },
    {
     "data": {
      "text/plain": "<Figure size 1080x432 with 1 Axes>",
      "image/png": "[encoded data removed]"
     },
     "metadata": {},
     "output_type": "display_data"
    }
   ],
   "source": [
    "df_messages_length_5.lang.value_counts().plot(kind='bar', figsize=(15,6))\n",
    "plt.title(\"Number of messages by language\")\n",
    "plt.ylabel('Number of messages')\n",
    "plt.xlabel('Language')"
   ],
   "metadata": {
    "collapsed": false,
    "ExecuteTime": {
     "end_time": "2024-06-28T11:03:48.881046800Z",
     "start_time": "2024-06-28T11:03:48.581049300Z"
    }
   },
   "id": "5b0fec2c7d396867",
   "execution_count": 41
  },
  {
   "cell_type": "code",
   "outputs": [],
   "source": [
    "# Take only the Russian and Ukrainian languages\n",
    "df_messages_length_5_ru_ua = df_messages_length_5[(df_messages_length_5[\"lang\"] == 'uk') | (df_messages_length_5[\"lang\"] == 'ru')]"
   ],
   "metadata": {
    "collapsed": false,
    "ExecuteTime": {
     "end_time": "2024-06-28T11:07:22.578885Z",
     "start_time": "2024-06-28T11:07:22.362521400Z"
    }
   },
   "id": "c36d13d8e44986cd",
   "execution_count": 46
  },
  {
   "cell_type": "markdown",
   "source": [
    "### Merge datasets"
   ],
   "metadata": {
    "collapsed": false
   },
   "id": "6122cc8427e91cd3"
  },
  {
   "cell_type": "code",
   "outputs": [],
   "source": [
    "merged_df = pd.merge(df_messages_length_5_ru_ua, df_train, on='source_id', how='inner')"
   ],
   "metadata": {
    "collapsed": false,
    "ExecuteTime": {
     "end_time": "2024-06-28T11:09:59.048398Z",
     "start_time": "2024-06-28T11:09:58.909346600Z"
    }
   },
   "id": "456ca378b5f6e7cf",
   "execution_count": 50
  },
  {
   "cell_type": "code",
   "outputs": [
    {
     "data": {
      "text/plain": "        source_id  message_id  \\\n0          253091  1428333721   \n1          253091  1428079971   \n2          253091  1428007536   \n3          253091  1428079972   \n4          253091  1427996535   \n...           ...         ...   \n201723     226841   776160744   \n201724     226841   776160747   \n201725     226841   775473825   \n201726     226841   775473830   \n201727     226841   775473839   \n\n                                                     text  impressions  \\\n0       Порядка 150 КОИБов планирует использовать ЦИК ...       1979.0   \n1       ЦИК утвердил порядок гашения избирательных бюл...      10291.0   \n2       Председатель ярославского избиркома Елена Нови...       2079.0   \n3       Мандат умершего Артура Чилингарова — депутата ...       2321.0   \n4       ЦИК обнаружил трех «экстремистов/террористов» ...       2573.0   \n...                                                   ...          ...   \n201723  Российские военные совместно с волонтерской ор...        512.0   \n201724  Прибывшие после 19 февраля в Россию граждане У...        507.0   \n201725  За сутки Россия эвакуировала более 1,1 тысячи ...        484.0   \n201726  Более 17 тысяч украинских беженцев пересекли р...        462.0   \n201727  В Харьковскую область запустили подачу электри...        598.0   \n\n        reactions  shares  comments        published_at content_type lang  \\\n0              16     2.0         0 2024-06-26 10:13:14         POST   ru   \n1              57    58.0         0 2024-06-26 10:00:05         POST   ru   \n2              17    28.0         0 2024-06-26 09:30:21         POST   ru   \n3              22     4.0         0 2024-06-26 09:19:37         POST   ru   \n4              51    23.0         0 2024-06-26 08:31:57         POST   ru   \n...           ...     ...       ...                 ...          ...  ...   \n201723          0     0.0         0 2022-05-12 11:01:35         POST   ru   \n201724          0     0.0         0 2022-05-12 07:52:56       REPOST   ru   \n201725          0     0.0         0 2022-05-11 17:32:09       REPOST   ru   \n201726          0     0.0         0 2022-05-11 15:39:43       REPOST   ru   \n201727          0     0.0         0 2022-05-11 13:25:00         POST   ru   \n\n                                               text_clean  length  \\\n0       Порядка 150 КОИБов планирует использовать ЦИК ...      25   \n1       ЦИК утвердил порядок гашения избирательных бюл...      72   \n2       Председатель ярославского избиркома Елена Нови...      37   \n3       Мандат умершего Артура Чилингарова депутата Го...      50   \n4       ЦИК обнаружил трех экстремистов/террористов ср...      56   \n...                                                   ...     ...   \n201723  Российские военные совместно с волонтерской ор...      37   \n201724  Прибывшие после 19 февраля в Россию граждане У...      37   \n201725  За сутки Россия эвакуировала более 1,1 тысячи ...      50   \n201726  Более 17 тысяч украинских беженцев пересекли р...      25   \n201727  В Харьковскую область запустили подачу электри...      39   \n\n                     source_url         source_category  \n0            https://t.me/cikrf  AGGRESSIVE_INFORMATION  \n1            https://t.me/cikrf  AGGRESSIVE_INFORMATION  \n2            https://t.me/cikrf  AGGRESSIVE_INFORMATION  \n3            https://t.me/cikrf  AGGRESSIVE_INFORMATION  \n4            https://t.me/cikrf  AGGRESSIVE_INFORMATION  \n...                         ...                     ...  \n201723  https://t.me/nosovka_ru  RESTRAINED_INFORMATION  \n201724  https://t.me/nosovka_ru  RESTRAINED_INFORMATION  \n201725  https://t.me/nosovka_ru  RESTRAINED_INFORMATION  \n201726  https://t.me/nosovka_ru  RESTRAINED_INFORMATION  \n201727  https://t.me/nosovka_ru  RESTRAINED_INFORMATION  \n\n[201728 rows x 14 columns]",
      "text/html": "<div>\n<style scoped>\n    .dataframe tbody tr th:only-of-type {\n        vertical-align: middle;\n    }\n\n    .dataframe tbody tr th {\n        vertical-align: top;\n    }\n\n    .dataframe thead th {\n        text-align: right;\n    }\n</style>\n<table border=\"1\" class=\"dataframe\">\n  <thead>\n    <tr style=\"text-align: right;\">\n      <th></th>\n      <th>source_id</th>\n      <th>message_id</th>\n      <th>text</th>\n      <th>impressions</th>\n      <th>reactions</th>\n      <th>shares</th>\n      <th>comments</th>\n      <th>published_at</th>\n      <th>content_type</th>\n      <th>lang</th>\n      <th>text_clean</th>\n      <th>length</th>\n      <th>source_url</th>\n      <th>source_category</th>\n    </tr>\n  </thead>\n  <tbody>\n    <tr>\n      <th>0</th>\n      <td>253091</td>\n      <td>1428333721</td>\n      <td>Порядка 150 КОИБов планирует использовать ЦИК ...</td>\n      <td>1979.0</td>\n      <td>16</td>\n      <td>2.0</td>\n      <td>0</td>\n      <td>2024-06-26 10:13:14</td>\n      <td>POST</td>\n      <td>ru</td>\n      <td>Порядка 150 КОИБов планирует использовать ЦИК ...</td>\n      <td>25</td>\n      <td>https://t.me/cikrf</td>\n      <td>AGGRESSIVE_INFORMATION</td>\n    </tr>\n    <tr>\n      <th>1</th>\n      <td>253091</td>\n      <td>1428079971</td>\n      <td>ЦИК утвердил порядок гашения избирательных бюл...</td>\n      <td>10291.0</td>\n      <td>57</td>\n      <td>58.0</td>\n      <td>0</td>\n      <td>2024-06-26 10:00:05</td>\n      <td>POST</td>\n      <td>ru</td>\n      <td>ЦИК утвердил порядок гашения избирательных бюл...</td>\n      <td>72</td>\n      <td>https://t.me/cikrf</td>\n      <td>AGGRESSIVE_INFORMATION</td>\n    </tr>\n    <tr>\n      <th>2</th>\n      <td>253091</td>\n      <td>1428007536</td>\n      <td>Председатель ярославского избиркома Елена Нови...</td>\n      <td>2079.0</td>\n      <td>17</td>\n      <td>28.0</td>\n      <td>0</td>\n      <td>2024-06-26 09:30:21</td>\n      <td>POST</td>\n      <td>ru</td>\n      <td>Председатель ярославского избиркома Елена Нови...</td>\n      <td>37</td>\n      <td>https://t.me/cikrf</td>\n      <td>AGGRESSIVE_INFORMATION</td>\n    </tr>\n    <tr>\n      <th>3</th>\n      <td>253091</td>\n      <td>1428079972</td>\n      <td>Мандат умершего Артура Чилингарова — депутата ...</td>\n      <td>2321.0</td>\n      <td>22</td>\n      <td>4.0</td>\n      <td>0</td>\n      <td>2024-06-26 09:19:37</td>\n      <td>POST</td>\n      <td>ru</td>\n      <td>Мандат умершего Артура Чилингарова депутата Го...</td>\n      <td>50</td>\n      <td>https://t.me/cikrf</td>\n      <td>AGGRESSIVE_INFORMATION</td>\n    </tr>\n    <tr>\n      <th>4</th>\n      <td>253091</td>\n      <td>1427996535</td>\n      <td>ЦИК обнаружил трех «экстремистов/террористов» ...</td>\n      <td>2573.0</td>\n      <td>51</td>\n      <td>23.0</td>\n      <td>0</td>\n      <td>2024-06-26 08:31:57</td>\n      <td>POST</td>\n      <td>ru</td>\n      <td>ЦИК обнаружил трех экстремистов/террористов ср...</td>\n      <td>56</td>\n      <td>https://t.me/cikrf</td>\n      <td>AGGRESSIVE_INFORMATION</td>\n    </tr>\n    <tr>\n      <th>...</th>\n      <td>...</td>\n      <td>...</td>\n      <td>...</td>\n      <td>...</td>\n      <td>...</td>\n      <td>...</td>\n      <td>...</td>\n      <td>...</td>\n      <td>...</td>\n      <td>...</td>\n      <td>...</td>\n      <td>...</td>\n      <td>...</td>\n      <td>...</td>\n    </tr>\n    <tr>\n      <th>201723</th>\n      <td>226841</td>\n      <td>776160744</td>\n      <td>Российские военные совместно с волонтерской ор...</td>\n      <td>512.0</td>\n      <td>0</td>\n      <td>0.0</td>\n      <td>0</td>\n      <td>2022-05-12 11:01:35</td>\n      <td>POST</td>\n      <td>ru</td>\n      <td>Российские военные совместно с волонтерской ор...</td>\n      <td>37</td>\n      <td>https://t.me/nosovka_ru</td>\n      <td>RESTRAINED_INFORMATION</td>\n    </tr>\n    <tr>\n      <th>201724</th>\n      <td>226841</td>\n      <td>776160747</td>\n      <td>Прибывшие после 19 февраля в Россию граждане У...</td>\n      <td>507.0</td>\n      <td>0</td>\n      <td>0.0</td>\n      <td>0</td>\n      <td>2022-05-12 07:52:56</td>\n      <td>REPOST</td>\n      <td>ru</td>\n      <td>Прибывшие после 19 февраля в Россию граждане У...</td>\n      <td>37</td>\n      <td>https://t.me/nosovka_ru</td>\n      <td>RESTRAINED_INFORMATION</td>\n    </tr>\n    <tr>\n      <th>201725</th>\n      <td>226841</td>\n      <td>775473825</td>\n      <td>За сутки Россия эвакуировала более 1,1 тысячи ...</td>\n      <td>484.0</td>\n      <td>0</td>\n      <td>0.0</td>\n      <td>0</td>\n      <td>2022-05-11 17:32:09</td>\n      <td>REPOST</td>\n      <td>ru</td>\n      <td>За сутки Россия эвакуировала более 1,1 тысячи ...</td>\n      <td>50</td>\n      <td>https://t.me/nosovka_ru</td>\n      <td>RESTRAINED_INFORMATION</td>\n    </tr>\n    <tr>\n      <th>201726</th>\n      <td>226841</td>\n      <td>775473830</td>\n      <td>Более 17 тысяч украинских беженцев пересекли р...</td>\n      <td>462.0</td>\n      <td>0</td>\n      <td>0.0</td>\n      <td>0</td>\n      <td>2022-05-11 15:39:43</td>\n      <td>REPOST</td>\n      <td>ru</td>\n      <td>Более 17 тысяч украинских беженцев пересекли р...</td>\n      <td>25</td>\n      <td>https://t.me/nosovka_ru</td>\n      <td>RESTRAINED_INFORMATION</td>\n    </tr>\n    <tr>\n      <th>201727</th>\n      <td>226841</td>\n      <td>775473839</td>\n      <td>В Харьковскую область запустили подачу электри...</td>\n      <td>598.0</td>\n      <td>0</td>\n      <td>0.0</td>\n      <td>0</td>\n      <td>2022-05-11 13:25:00</td>\n      <td>POST</td>\n      <td>ru</td>\n      <td>В Харьковскую область запустили подачу электри...</td>\n      <td>39</td>\n      <td>https://t.me/nosovka_ru</td>\n      <td>RESTRAINED_INFORMATION</td>\n    </tr>\n  </tbody>\n</table>\n<p>201728 rows × 14 columns</p>\n</div>"
     },
     "execution_count": 51,
     "metadata": {},
     "output_type": "execute_result"
    }
   ],
   "source": [
    "merged_df.head()"
   ],
   "metadata": {
    "collapsed": false,
    "ExecuteTime": {
     "end_time": "2024-06-28T11:10:02.507877100Z",
     "start_time": "2024-06-28T11:10:02.492879Z"
    }
   },
   "id": "bc456492318322ea",
   "execution_count": 51
  },
  {
   "cell_type": "code",
   "outputs": [
    {
     "data": {
      "text/plain": "AGGRESSIVE_INFORMATION                  45.957924\nRESTRAINED_INFORMATION                  35.001586\nRESTRAINED_MILITARY                      3.645007\nSAFE_CONTENT                             3.549829\nAGGRESSIVE_MILITARY                      3.265784\nUNRECOGNIZED_REPUBLICS                   2.144967\nENTITIES_PROMOTING_VIOLENCE_AND_HATE     1.954116\nSPAM                                     1.702788\nVIOLENCE                                 1.059843\nCOORDINATION_OF_ATTACKS                  0.737627\nPERSONAL_INFORMATION                     0.693508\nCYBER_ATTACK_COORDINATION                0.287020\nName: source_category, dtype: float64"
     },
     "execution_count": 53,
     "metadata": {},
     "output_type": "execute_result"
    }
   ],
   "source": [
    "merged_df[\"source_category\"].value_counts(normalize=True) * 100"
   ],
   "metadata": {
    "collapsed": false,
    "ExecuteTime": {
     "end_time": "2024-06-28T11:13:06.431018300Z",
     "start_time": "2024-06-28T11:13:06.393695Z"
    }
   },
   "id": "39d41006411f41a9",
   "execution_count": 53
  },
  {
   "cell_type": "code",
   "outputs": [
    {
     "data": {
      "text/plain": "POST       151580\nREPOST      49548\nCOMMENT       600\nName: content_type, dtype: int64"
     },
     "execution_count": 58,
     "metadata": {},
     "output_type": "execute_result"
    }
   ],
   "source": [
    "merged_df[\"content_type\"].value_counts()"
   ],
   "metadata": {
    "collapsed": false,
    "ExecuteTime": {
     "end_time": "2024-06-28T11:28:05.671334300Z",
     "start_time": "2024-06-28T11:28:05.652337500Z"
    }
   },
   "id": "e318afc55307f4d7",
   "execution_count": 58
  },
  {
   "cell_type": "code",
   "outputs": [
    {
     "data": {
      "text/plain": "POST      151580\nREPOST     49548\nName: content_type, dtype: int64"
     },
     "execution_count": 52,
     "metadata": {},
     "output_type": "execute_result"
    }
   ],
   "source": [
    "# remove COMMENTS\n",
    "merged_df = merged_df[(merged_df[\"content_type\"] == \"POST\") | (merged_df[\"content_type\"] == \"REPOST\") ]\n",
    "merged_df[\"content_type\"].value_counts()"
   ],
   "metadata": {
    "collapsed": false,
    "ExecuteTime": {
     "end_time": "2024-06-28T18:33:47.813316800Z",
     "start_time": "2024-06-28T18:33:47.719320200Z"
    }
   },
   "id": "358d16543b208c8e",
   "execution_count": 52
  },
  {
   "cell_type": "markdown",
   "source": [
    "#### Lematization"
   ],
   "metadata": {
    "collapsed": false
   },
   "id": "acbf868cb7bf8071"
  },
  {
   "cell_type": "code",
   "outputs": [
    {
     "name": "stderr",
     "output_type": "stream",
     "text": [
      "100%|██████████| 201128/201128 [00:36<00:00, 5526.18it/s]\n",
      "C:\\Windows\\Temp\\ipykernel_15920\\3529567991.py:13: SettingWithCopyWarning: \n",
      "A value is trying to be set on a copy of a slice from a DataFrame.\n",
      "Try using .loc[row_indexer,col_indexer] = value instead\n",
      "\n",
      "See the caveats in the documentation: https://pandas.pydata.org/pandas-docs/stable/user_guide/indexing.html#returning-a-view-versus-a-copy\n",
      "  df['text_clean_no_last'] = df['text_clean'].progress_apply(remove_last_sentence)\n"
     ]
    }
   ],
   "source": [
    "# Remove last sentence\n",
    "def remove_last_sentence(text):\n",
    "    sentences = sent_tokenize(text)\n",
    "    if len(sentences) > 1:\n",
    "        return ' '.join(sentences[:-1])\n",
    "    else:\n",
    "        return text  # Return the original text if there's only one sentence\n",
    "\n",
    "# Initialize a tqdm progress bar\n",
    "tqdm.pandas()\n",
    "\n",
    "# Apply the function to the 'text' column\n",
    "merged_df['text_clean_no_last'] = merged_df['text_clean'].progress_apply(remove_last_sentence)"
   ],
   "metadata": {
    "collapsed": false,
    "ExecuteTime": {
     "end_time": "2024-06-28T18:34:39.662286100Z",
     "start_time": "2024-06-28T18:34:03.228142800Z"
    }
   },
   "id": "9fd97147d1356488",
   "execution_count": 53
  },
  {
   "cell_type": "code",
   "outputs": [],
   "source": [
    "# Drop 100% dublicates\n",
    "merged_df = merged_df.drop_duplicates(subset='text_clean_no_last')"
   ],
   "metadata": {
    "collapsed": false,
    "ExecuteTime": {
     "end_time": "2024-06-28T16:54:19.372816700Z",
     "start_time": "2024-06-28T16:54:18.495813100Z"
    }
   },
   "id": "e5f26a2e19bb2d10",
   "execution_count": 36
  },
  {
   "cell_type": "code",
   "outputs": [
    {
     "data": {
      "text/plain": "201128"
     },
     "execution_count": 54,
     "metadata": {},
     "output_type": "execute_result"
    }
   ],
   "source": [
    "len(merged_df)"
   ],
   "metadata": {
    "collapsed": false,
    "ExecuteTime": {
     "end_time": "2024-06-28T18:35:29.392533300Z",
     "start_time": "2024-06-28T18:35:29.271646800Z"
    }
   },
   "id": "9b41fb45038cba34",
   "execution_count": 54
  },
  {
   "cell_type": "code",
   "outputs": [],
   "source": [
    "# Load the SpaCy models\n",
    "nlp_ru = spacy.load(\"ru_core_news_md\")\n",
    "nlp_uk = spacy.load(\"uk_core_news_md\")\n",
    "\n",
    "# Simplified lemmatization function\n",
    "def lemmatize_text(text, lang):\n",
    "    nlp = nlp_ru if lang != 'uk' else nlp_uk\n",
    "    doc = nlp(text)\n",
    "    # return ' '.join([token.lemma_ if token.lemma_ != '-PRON-' else token.text for token in doc if token.has_vector and (token.lemma_ or token.text)]).replace(',', '')\n",
    "    return ' '.join([token.lemma_ for token in doc]).replace(',', '')\n"
   ],
   "metadata": {
    "collapsed": false,
    "ExecuteTime": {
     "end_time": "2024-06-28T18:35:38.781461500Z",
     "start_time": "2024-06-28T18:35:36.230460900Z"
    }
   },
   "id": "c5adcde7011d447c",
   "execution_count": 55
  },
  {
   "cell_type": "code",
   "outputs": [
    {
     "name": "stderr",
     "output_type": "stream",
     "text": [
      "Lemmatizing: 100%|██████████| 201128/201128 [1:32:48<00:00, 36.12it/s]  \n",
      "C:\\Windows\\Temp\\ipykernel_15920\\2212626675.py:7: SettingWithCopyWarning: \n",
      "A value is trying to be set on a copy of a slice from a DataFrame.\n",
      "Try using .loc[row_indexer,col_indexer] = value instead\n",
      "\n",
      "See the caveats in the documentation: https://pandas.pydata.org/pandas-docs/stable/user_guide/indexing.html#returning-a-view-versus-a-copy\n",
      "  df['lemmatized_text'] = lemmatized_texts\n"
     ]
    }
   ],
   "source": [
    "tqdm.pandas()\n",
    "# Use tqdm to apply the function with a progress bar manually\n",
    "lemmatized_texts = []\n",
    "for index, row in tqdm(merged_df.iterrows(), total=merged_df.shape[0], desc=\"Lemmatizing\"):\n",
    "    lemmatized_texts.append(lemmatize_text(row['text_clean_no_last'], row['lang']))\n",
    "\n",
    "merged_df['lemmatized_text'] = lemmatized_texts"
   ],
   "metadata": {
    "collapsed": false,
    "ExecuteTime": {
     "end_time": "2024-06-28T20:08:34.154760100Z",
     "start_time": "2024-06-28T18:35:45.661291400Z"
    }
   },
   "id": "d8353808d3bacf0",
   "execution_count": 56
  },
  {
   "cell_type": "code",
   "outputs": [
    {
     "data": {
      "text/plain": "        source_id  message_id  \\\n0          253091  1428333721   \n1          253091  1428079971   \n2          253091  1428007536   \n3          253091  1428079972   \n4          253091  1427996535   \n...           ...         ...   \n201723     226841   776160744   \n201724     226841   776160747   \n201725     226841   775473825   \n201726     226841   775473830   \n201727     226841   775473839   \n\n                                                     text  impressions  \\\n0       Порядка 150 КОИБов планирует использовать ЦИК ...       1979.0   \n1       ЦИК утвердил порядок гашения избирательных бюл...      10291.0   \n2       Председатель ярославского избиркома Елена Нови...       2079.0   \n3       Мандат умершего Артура Чилингарова — депутата ...       2321.0   \n4       ЦИК обнаружил трех «экстремистов/террористов» ...       2573.0   \n...                                                   ...          ...   \n201723  Российские военные совместно с волонтерской ор...        512.0   \n201724  Прибывшие после 19 февраля в Россию граждане У...        507.0   \n201725  За сутки Россия эвакуировала более 1,1 тысячи ...        484.0   \n201726  Более 17 тысяч украинских беженцев пересекли р...        462.0   \n201727  В Харьковскую область запустили подачу электри...        598.0   \n\n        reactions  shares  comments         published_at content_type lang  \\\n0              16     2.0         0  2024-06-26 10:13:14         POST   ru   \n1              57    58.0         0  2024-06-26 10:00:05         POST   ru   \n2              17    28.0         0  2024-06-26 09:30:21         POST   ru   \n3              22     4.0         0  2024-06-26 09:19:37         POST   ru   \n4              51    23.0         0  2024-06-26 08:31:57         POST   ru   \n...           ...     ...       ...                  ...          ...  ...   \n201723          0     0.0         0  2022-05-12 11:01:35         POST   ru   \n201724          0     0.0         0  2022-05-12 07:52:56       REPOST   ru   \n201725          0     0.0         0  2022-05-11 17:32:09       REPOST   ru   \n201726          0     0.0         0  2022-05-11 15:39:43       REPOST   ru   \n201727          0     0.0         0  2022-05-11 13:25:00         POST   ru   \n\n                                               text_clean  length  \\\n0       Порядка 150 КОИБов планирует использовать ЦИК ...      25   \n1       ЦИК утвердил порядок гашения избирательных бюл...      72   \n2       Председатель ярославского избиркома Елена Нови...      37   \n3       Мандат умершего Артура Чилингарова депутата Го...      50   \n4       ЦИК обнаружил трех экстремистов/террористов ср...      56   \n...                                                   ...     ...   \n201723  Российские военные совместно с волонтерской ор...      37   \n201724  Прибывшие после 19 февраля в Россию граждане У...      37   \n201725  За сутки Россия эвакуировала более 1,1 тысячи ...      50   \n201726  Более 17 тысяч украинских беженцев пересекли р...      25   \n201727  В Харьковскую область запустили подачу электри...      39   \n\n                     source_url         source_category  \\\n0            https://t.me/cikrf  AGGRESSIVE_INFORMATION   \n1            https://t.me/cikrf  AGGRESSIVE_INFORMATION   \n2            https://t.me/cikrf  AGGRESSIVE_INFORMATION   \n3            https://t.me/cikrf  AGGRESSIVE_INFORMATION   \n4            https://t.me/cikrf  AGGRESSIVE_INFORMATION   \n...                         ...                     ...   \n201723  https://t.me/nosovka_ru  RESTRAINED_INFORMATION   \n201724  https://t.me/nosovka_ru  RESTRAINED_INFORMATION   \n201725  https://t.me/nosovka_ru  RESTRAINED_INFORMATION   \n201726  https://t.me/nosovka_ru  RESTRAINED_INFORMATION   \n201727  https://t.me/nosovka_ru  RESTRAINED_INFORMATION   \n\n                                       text_clean_no_last  \\\n0       Порядка 150 КОИБов планирует использовать ЦИК ...   \n1       ЦИК утвердил порядок гашения избирательных бюл...   \n2       Председатель ярославского избиркома Елена Нови...   \n3       Мандат умершего Артура Чилингарова депутата Го...   \n4       ЦИК обнаружил трех экстремистов/террористов ср...   \n...                                                   ...   \n201723  Российские военные совместно с волонтерской ор...   \n201724  Прибывшие после 19 февраля в Россию граждане У...   \n201725  За сутки Россия эвакуировала более 1,1 тысячи ...   \n201726  Более 17 тысяч украинских беженцев пересекли р...   \n201727  В Харьковскую область запустили подачу электри...   \n\n                                          lemmatized_text  \n0       порядок 150 коибов планировать использовать ци...  \n1       цик утвердить порядок гашение избирательный бю...  \n2       председатель ярославский избирком елена новик ...  \n3       мандат умершего артур чилингаров депутат госду...  \n4       цик обнаружить три экстремист / террорист сред...  \n...                                                   ...  \n201723  российский военный совместно с волонтёрский ор...  \n201724  прибыть после 19 февраль в россия гражданин ук...  \n201725  за сутки россия эвакуировать более 11 тысяча р...  \n201726  более 17 тысяча украинских беженец пересечь ро...  \n201727  в харьковский область запустить подача электри...  \n\n[201128 rows x 16 columns]",
      "text/html": "<div>\n<style scoped>\n    .dataframe tbody tr th:only-of-type {\n        vertical-align: middle;\n    }\n\n    .dataframe tbody tr th {\n        vertical-align: top;\n    }\n\n    .dataframe thead th {\n        text-align: right;\n    }\n</style>\n<table border=\"1\" class=\"dataframe\">\n  <thead>\n    <tr style=\"text-align: right;\">\n      <th></th>\n      <th>source_id</th>\n      <th>message_id</th>\n      <th>text</th>\n      <th>impressions</th>\n      <th>reactions</th>\n      <th>shares</th>\n      <th>comments</th>\n      <th>published_at</th>\n      <th>content_type</th>\n      <th>lang</th>\n      <th>text_clean</th>\n      <th>length</th>\n      <th>source_url</th>\n      <th>source_category</th>\n      <th>text_clean_no_last</th>\n      <th>lemmatized_text</th>\n    </tr>\n  </thead>\n  <tbody>\n    <tr>\n      <th>0</th>\n      <td>253091</td>\n      <td>1428333721</td>\n      <td>Порядка 150 КОИБов планирует использовать ЦИК ...</td>\n      <td>1979.0</td>\n      <td>16</td>\n      <td>2.0</td>\n      <td>0</td>\n      <td>2024-06-26 10:13:14</td>\n      <td>POST</td>\n      <td>ru</td>\n      <td>Порядка 150 КОИБов планирует использовать ЦИК ...</td>\n      <td>25</td>\n      <td>https://t.me/cikrf</td>\n      <td>AGGRESSIVE_INFORMATION</td>\n      <td>Порядка 150 КОИБов планирует использовать ЦИК ...</td>\n      <td>порядок 150 коибов планировать использовать ци...</td>\n    </tr>\n    <tr>\n      <th>1</th>\n      <td>253091</td>\n      <td>1428079971</td>\n      <td>ЦИК утвердил порядок гашения избирательных бюл...</td>\n      <td>10291.0</td>\n      <td>57</td>\n      <td>58.0</td>\n      <td>0</td>\n      <td>2024-06-26 10:00:05</td>\n      <td>POST</td>\n      <td>ru</td>\n      <td>ЦИК утвердил порядок гашения избирательных бюл...</td>\n      <td>72</td>\n      <td>https://t.me/cikrf</td>\n      <td>AGGRESSIVE_INFORMATION</td>\n      <td>ЦИК утвердил порядок гашения избирательных бюл...</td>\n      <td>цик утвердить порядок гашение избирательный бю...</td>\n    </tr>\n    <tr>\n      <th>2</th>\n      <td>253091</td>\n      <td>1428007536</td>\n      <td>Председатель ярославского избиркома Елена Нови...</td>\n      <td>2079.0</td>\n      <td>17</td>\n      <td>28.0</td>\n      <td>0</td>\n      <td>2024-06-26 09:30:21</td>\n      <td>POST</td>\n      <td>ru</td>\n      <td>Председатель ярославского избиркома Елена Нови...</td>\n      <td>37</td>\n      <td>https://t.me/cikrf</td>\n      <td>AGGRESSIVE_INFORMATION</td>\n      <td>Председатель ярославского избиркома Елена Нови...</td>\n      <td>председатель ярославский избирком елена новик ...</td>\n    </tr>\n    <tr>\n      <th>3</th>\n      <td>253091</td>\n      <td>1428079972</td>\n      <td>Мандат умершего Артура Чилингарова — депутата ...</td>\n      <td>2321.0</td>\n      <td>22</td>\n      <td>4.0</td>\n      <td>0</td>\n      <td>2024-06-26 09:19:37</td>\n      <td>POST</td>\n      <td>ru</td>\n      <td>Мандат умершего Артура Чилингарова депутата Го...</td>\n      <td>50</td>\n      <td>https://t.me/cikrf</td>\n      <td>AGGRESSIVE_INFORMATION</td>\n      <td>Мандат умершего Артура Чилингарова депутата Го...</td>\n      <td>мандат умершего артур чилингаров депутат госду...</td>\n    </tr>\n    <tr>\n      <th>4</th>\n      <td>253091</td>\n      <td>1427996535</td>\n      <td>ЦИК обнаружил трех «экстремистов/террористов» ...</td>\n      <td>2573.0</td>\n      <td>51</td>\n      <td>23.0</td>\n      <td>0</td>\n      <td>2024-06-26 08:31:57</td>\n      <td>POST</td>\n      <td>ru</td>\n      <td>ЦИК обнаружил трех экстремистов/террористов ср...</td>\n      <td>56</td>\n      <td>https://t.me/cikrf</td>\n      <td>AGGRESSIVE_INFORMATION</td>\n      <td>ЦИК обнаружил трех экстремистов/террористов ср...</td>\n      <td>цик обнаружить три экстремист / террорист сред...</td>\n    </tr>\n    <tr>\n      <th>...</th>\n      <td>...</td>\n      <td>...</td>\n      <td>...</td>\n      <td>...</td>\n      <td>...</td>\n      <td>...</td>\n      <td>...</td>\n      <td>...</td>\n      <td>...</td>\n      <td>...</td>\n      <td>...</td>\n      <td>...</td>\n      <td>...</td>\n      <td>...</td>\n      <td>...</td>\n      <td>...</td>\n    </tr>\n    <tr>\n      <th>201723</th>\n      <td>226841</td>\n      <td>776160744</td>\n      <td>Российские военные совместно с волонтерской ор...</td>\n      <td>512.0</td>\n      <td>0</td>\n      <td>0.0</td>\n      <td>0</td>\n      <td>2022-05-12 11:01:35</td>\n      <td>POST</td>\n      <td>ru</td>\n      <td>Российские военные совместно с волонтерской ор...</td>\n      <td>37</td>\n      <td>https://t.me/nosovka_ru</td>\n      <td>RESTRAINED_INFORMATION</td>\n      <td>Российские военные совместно с волонтерской ор...</td>\n      <td>российский военный совместно с волонтёрский ор...</td>\n    </tr>\n    <tr>\n      <th>201724</th>\n      <td>226841</td>\n      <td>776160747</td>\n      <td>Прибывшие после 19 февраля в Россию граждане У...</td>\n      <td>507.0</td>\n      <td>0</td>\n      <td>0.0</td>\n      <td>0</td>\n      <td>2022-05-12 07:52:56</td>\n      <td>REPOST</td>\n      <td>ru</td>\n      <td>Прибывшие после 19 февраля в Россию граждане У...</td>\n      <td>37</td>\n      <td>https://t.me/nosovka_ru</td>\n      <td>RESTRAINED_INFORMATION</td>\n      <td>Прибывшие после 19 февраля в Россию граждане У...</td>\n      <td>прибыть после 19 февраль в россия гражданин ук...</td>\n    </tr>\n    <tr>\n      <th>201725</th>\n      <td>226841</td>\n      <td>775473825</td>\n      <td>За сутки Россия эвакуировала более 1,1 тысячи ...</td>\n      <td>484.0</td>\n      <td>0</td>\n      <td>0.0</td>\n      <td>0</td>\n      <td>2022-05-11 17:32:09</td>\n      <td>REPOST</td>\n      <td>ru</td>\n      <td>За сутки Россия эвакуировала более 1,1 тысячи ...</td>\n      <td>50</td>\n      <td>https://t.me/nosovka_ru</td>\n      <td>RESTRAINED_INFORMATION</td>\n      <td>За сутки Россия эвакуировала более 1,1 тысячи ...</td>\n      <td>за сутки россия эвакуировать более 11 тысяча р...</td>\n    </tr>\n    <tr>\n      <th>201726</th>\n      <td>226841</td>\n      <td>775473830</td>\n      <td>Более 17 тысяч украинских беженцев пересекли р...</td>\n      <td>462.0</td>\n      <td>0</td>\n      <td>0.0</td>\n      <td>0</td>\n      <td>2022-05-11 15:39:43</td>\n      <td>REPOST</td>\n      <td>ru</td>\n      <td>Более 17 тысяч украинских беженцев пересекли р...</td>\n      <td>25</td>\n      <td>https://t.me/nosovka_ru</td>\n      <td>RESTRAINED_INFORMATION</td>\n      <td>Более 17 тысяч украинских беженцев пересекли р...</td>\n      <td>более 17 тысяча украинских беженец пересечь ро...</td>\n    </tr>\n    <tr>\n      <th>201727</th>\n      <td>226841</td>\n      <td>775473839</td>\n      <td>В Харьковскую область запустили подачу электри...</td>\n      <td>598.0</td>\n      <td>0</td>\n      <td>0.0</td>\n      <td>0</td>\n      <td>2022-05-11 13:25:00</td>\n      <td>POST</td>\n      <td>ru</td>\n      <td>В Харьковскую область запустили подачу электри...</td>\n      <td>39</td>\n      <td>https://t.me/nosovka_ru</td>\n      <td>RESTRAINED_INFORMATION</td>\n      <td>В Харьковскую область запустили подачу электри...</td>\n      <td>в харьковский область запустить подача электри...</td>\n    </tr>\n  </tbody>\n</table>\n<p>201128 rows × 16 columns</p>\n</div>"
     },
     "execution_count": 59,
     "metadata": {},
     "output_type": "execute_result"
    }
   ],
   "source": [
    "merged_df.head()"
   ],
   "metadata": {
    "collapsed": false,
    "ExecuteTime": {
     "end_time": "2024-06-28T20:12:15.000211600Z",
     "start_time": "2024-06-28T20:12:14.949212400Z"
    }
   },
   "id": "ed8bb5d82ebad683",
   "execution_count": 59
  },
  {
   "cell_type": "markdown",
   "source": [
    "### Remove stop words"
   ],
   "metadata": {
    "collapsed": false
   },
   "id": "754b0e49c2d36c69"
  },
  {
   "cell_type": "code",
   "outputs": [],
   "source": [
    "# Remove stop words\n",
    "# Завантаження стоп-слів для російської мови\n",
    "stop_words_ru = stopwords.words('russian')\n",
    "stop_words_ru.extend(['это', 'все', 'всё', 'пока', 'её','нам','подпишись'])\n",
    "\n",
    "# Додавання власних стоп-слів для української мови\n",
    "stop_words_uk = set([\n",
    "    'і', 'в', 'не', 'я', 'що', 'на', 'з', 'до', 'це', 'у', 'це', 'за', 'як', \n",
    "    'по', 'його', 'так', 'але', 'вона', 'ми', 'вони', 'той', 'він', 'був', \n",
    "    'її', 'ще', 'їх', 'та', 'більш', 'більше', 'ніж', 'чи', 'про', 'бути', \n",
    "    'й', 'всі', 'також', 'ж', 'аби', 'жоден', 'аби', 'ні', 'же', 'ви'\n",
    "])\n",
    "\n",
    "# Комбінування стоп-слів\n",
    "all_stop_words = stop_words_uk.union(set(stop_words_ru))\n",
    "\n",
    "# Optimized Preprocessing with List Comprehension and Set Operations\n",
    "def preprocess_hard(text, join_back=True):\n",
    "    words = gensim.utils.simple_preprocess(text)\n",
    "    filtered_words = [word for word in words if word not in all_stop_words]\n",
    "    return \" \".join(filtered_words) if join_back else filtered_words\n",
    "\n",
    "merged_df['lemmatized_no_stopwords_text'] = merged_df['lemmatized_text'].apply(preprocess_hard)"
   ],
   "metadata": {
    "collapsed": false
   },
   "id": "fa5b01854b9a284d"
  },
  {
   "cell_type": "markdown",
   "source": [
    "### Remove most popular words"
   ],
   "metadata": {
    "collapsed": false
   },
   "id": "781668720313e7cf"
  },
  {
   "cell_type": "code",
   "outputs": [],
   "source": [
    "# Find the most popular words\n",
    "all_words = ' '.join(merged_df['lemmatized_no_stopwords_text']).split()\n",
    "word_freq = Counter(all_words)\n",
    "\n",
    "# Step 2: Identify the top 100 most frequent words\n",
    "top_100_words = set([word for word, freq in word_freq.most_common(100)])\n",
    "top_100_words.head()"
   ],
   "metadata": {
    "collapsed": false
   },
   "id": "e6e7e4d6df2607df"
  },
  {
   "cell_type": "code",
   "outputs": [],
   "source": [
    "# Remove the most popular words\n",
    "def remove_top_words(text):\n",
    "    return ' '.join([word for word in text.split() if word not in top_100_words])\n",
    "\n",
    "\n",
    "tqdm.pandas()\n",
    "# Apply the function to remove the top 100 words\n",
    "merged_df['text_no_popular'] = merged_df['lemmatized_no_stopwords_text'].progress_apply(remove_top_words)"
   ],
   "metadata": {
    "collapsed": false
   },
   "id": "76e734b0b490c900"
  },
  {
   "cell_type": "code",
   "outputs": [],
   "source": [
    "merged_df.to_csv('preprocessed_data_11am.csv', index=False)"
   ],
   "metadata": {
    "collapsed": false,
    "ExecuteTime": {
     "end_time": "2024-06-28T20:10:15.305325100Z",
     "start_time": "2024-06-28T20:10:03.636049Z"
    }
   },
   "id": "1d18aa0527a53fad",
   "execution_count": 58
  }
 ],
 "metadata": {
  "kernelspec": {
   "display_name": "Python 3",
   "language": "python",
   "name": "python3"
  },
  "language_info": {
   "codemirror_mode": {
    "name": "ipython",
    "version": 2
   },
   "file_extension": ".py",
   "mimetype": "text/x-python",
   "name": "python",
   "nbconvert_exporter": "python",
   "pygments_lexer": "ipython2",
   "version": "2.7.6"
  }
 },
 "nbformat": 4,
 "nbformat_minor": 5
}
